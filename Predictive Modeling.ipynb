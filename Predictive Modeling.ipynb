{
 "metadata": {
  "name": "",
  "signature": "sha256:59e0d3caba8ed7924ab9160ecf2353ebc41b896ea9b3e4f9ef58abc47c6cc608"
 },
 "nbformat": 3,
 "nbformat_minor": 0,
 "worksheets": [
  {
   "cells": [
    {
     "cell_type": "heading",
     "level": 2,
     "metadata": {},
     "source": [
      "Covariate Shift"
     ]
    },
    {
     "cell_type": "markdown",
     "metadata": {},
     "source": [
      "Most of the probabilistic prediction analysis assume that the distribution of the training set is not different than the distribution of the test. However, this may not be the case in real life. This might be due to various reasons. For example, if you collect data in an engineering lab, your samples might be biased towards male subjects because of the underrepresented ratio of females in engineering departments. When you collect your test data from outside the lab, you will probably have equal number of females and males. This phenomenon is called covariance shift in statistics. This might cause a problem when you validate your model. Shimodaira et. al, 2000 proposed to use weighted maximum likelihood to overcome this problem. Below, I will illustrate their toy example."
     ]
    },
    {
     "cell_type": "markdown",
     "metadata": {},
     "source": [
      "Let's generate a training data set $\\left(x^{(n)}, y^{(n)} \\right)$ of size $n=100$ where $$y = -x+x^3+\\epsilon$$ $$\\epsilon \\sim \\mathcal{N}\\left( 0, 0.3^2 \\right)$$ and density $q_0 \\left( x \\right)$ of covariate $x$: $$\\mathcal{N} \\left(0.5, 0.5^2 \\right)$$ Let's generate test data set from normal distribution $$q_1 = \\mathcal{N}\\left(0, 0.5^2\\right)$$\n",
      "\n",
      "Shimodaira showed that the optimum weights are the ratio of densities of training to test data sets is: $$w(x) = \\frac{q_1(x)}{q_0(x)}$$\n",
      "\n",
      "The first figure compares the regression analysis results of orginary least square (OLS) and weighted least square (WLS) using the weights defined as above. It is not easy to tell which model is better. We know that OLS is the optimum unbiased estimator but we don't know if tis model will decrese the error in the test set. \n",
      "\n",
      "The second figure shows OLS fit to the test data. Clearly, this regression curve is much more similar to the regression curve computed from WLS. In other words, WLS gave almost equivalent result to the future OLS by using past data. You can read the original paper for details: \"Improving predictive inference under covariate shift by weighting the log-likelihood function\" by Shimodaira, Hidetoshi."
     ]
    },
    {
     "cell_type": "code",
     "collapsed": false,
     "input": [
      "%pylab inline\n",
      "import numpy as np\n",
      "import matplotlib.pyplot as plt\n",
      "\n",
      "n = 100\n",
      "mu_x0, sigma_x0 = 0.5, 0.5\n",
      "x = np.random.normal(mu_x0, sigma_x0, n)\n",
      "mu_e, sigma_e = 0., 0.3\n",
      "e = np.random.normal(mu_e, sigma_e, n)\n",
      "y = -x + x**3 + e\n",
      "plt.figure()\n",
      "plt.plot(x,y,'*r')\n",
      "plt.ylabel('x')\n",
      "plt.ylabel('y')\n",
      "min_x, max_x = np.min(x), np.max(x)\n",
      "x_range = np.linspace(min_x, max_x, n)\n",
      "y_true = -x_range + x_range**3\n",
      "plt.plot(x_range,y_true,'b',label='true')\n",
      "\n",
      "x_add_ones =np.column_stack((x, ones(shape(x)[0])))\n",
      "x_range_add_ones =np.column_stack((x_range, ones(shape(x_range)[0])))\n",
      "\n",
      "\n",
      "# OLS for d=1\n",
      "theta_0 = np.dot(numpy.linalg.inv(np.dot(np.transpose(x_add_ones),x_add_ones)),\n",
      "                 np.dot(y,x_add_ones))\n",
      "y_0 = np.dot(x_range_add_ones,theta_0)\n",
      "plt.plot(x_range,y_0,'g',label='OLS')\n",
      "\n",
      "# compute weights from q1(x)/q0(x)\n",
      "mu_w, sigma_w = -0.28, 0.38\n",
      "w = exp(-((x-mu_w)**2)/float(2*sigma_w**2))\n",
      "x_w = x * w\n",
      "x_w_add_ones  =np.column_stack((x_w, ones(shape(x_w)[0])))\n",
      "\n",
      "# weighted log-likelihood\n",
      "theta_1 = np.dot(numpy.linalg.inv(np.dot(np.transpose(x_w_add_ones),x_w_add_ones)),\n",
      "                 np.dot(y,x_w_add_ones))\n",
      "y_1 = np.dot(x_range_add_ones,theta_1)\n",
      "plt.plot(x_range,y_1,'m',label='WLS')\n",
      "plt.legend()\n",
      "plt.title('Training data set')"
     ],
     "language": "python",
     "metadata": {},
     "outputs": [
      {
       "output_type": "stream",
       "stream": "stdout",
       "text": [
        "Populating the interactive namespace from numpy and matplotlib\n"
       ]
      },
      {
       "output_type": "stream",
       "stream": "stderr",
       "text": [
        "WARNING: pylab import has clobbered these variables: ['e']\n",
        "`%matplotlib` prevents importing * from pylab and numpy\n"
       ]
      },
      {
       "metadata": {},
       "output_type": "pyout",
       "prompt_number": 121,
       "text": [
        "<matplotlib.text.Text at 0x10d199910>"
       ]
      },
      {
       "metadata": {},
       "output_type": "display_data",
       "png": "[encoded data removed]",
       "text": [
        "<matplotlib.figure.Figure at 0x10cf76210>"
       ]
      }
     ],
     "prompt_number": 121
    },
    {
     "cell_type": "code",
     "collapsed": false,
     "input": [
      "# test set\n",
      "mu_x0, sigma_x0 = 0., 0.3\n",
      "x1 = np.random.normal(mu_x0, sigma_x0, n)\n",
      "y1 = -x1 + x1**3 + e\n",
      "\n",
      "plt.figure()\n",
      "plt.plot(x1,y1,'*r')\n",
      "plt.ylabel('x')\n",
      "plt.ylabel('y')\n",
      "min_x, max_x = np.min(x1), np.max(x1)\n",
      "x_range = np.linspace(min_x, max_x, n)\n",
      "y_true = -x_range + x_range**3\n",
      "plt.plot(x_range,y_true,'b',label='true')\n",
      "\n",
      "x1_add_ones =np.column_stack((x1, ones(shape(x1)[0])))\n",
      "x1_range_add_ones =np.column_stack((x_range, ones(shape(x1)[0])))\n",
      "\n",
      "\n",
      "# OLS for d=1\n",
      "theta_0 = np.dot(numpy.linalg.inv(np.dot(np.transpose(x1_add_ones),x1_add_ones)),\n",
      "                 np.dot(y1,x1_add_ones))\n",
      "y_0 = np.dot(x1_range_add_ones,theta_0)\n",
      "plt.plot(x_range,y_0,'g',label='OLS')\n",
      "plt.legend()\n",
      "plt.title('Test data set')"
     ],
     "language": "python",
     "metadata": {},
     "outputs": [
      {
       "metadata": {},
       "output_type": "pyout",
       "prompt_number": 122,
       "text": [
        "<matplotlib.text.Text at 0x10d5497d0>"
       ]
      },
      {
       "metadata": {},
       "output_type": "display_data",
       "png": "[encoded data removed]",
       "text": [
        "<matplotlib.figure.Figure at 0x10cf9a8d0>"
       ]
      }
     ],
     "prompt_number": 122
    },
    {
     "cell_type": "heading",
     "level": 2,
     "metadata": {},
     "source": [
      "Robust models to outliers"
     ]
    },
    {
     "cell_type": "markdown",
     "metadata": {},
     "source": [
      "It is important to consider the outliers in your data set when building a model for prediction or classification. Obviously, one way is to identify and reject the outliers. Another way is to use a model which is more robust to outliers. In prediction analysis, using absolute error instead of absolute squared error will make your model more robust. When dealing with categorical data, using tree-based models will yield more robust results."
     ]
    },
    {
     "cell_type": "heading",
     "level": 2,
     "metadata": {},
     "source": [
      "MSE versus MAE"
     ]
    },
    {
     "cell_type": "markdown",
     "metadata": {},
     "source": [
      "Both mean squared error (MSE) and mean absolute error (MAE) are used in predictive modeling. MSE has nice mathematical properties which makes it easier to compute the gradient. However, MAE requires more complicated tools such as linear programming to conpute the gradient. Because of the square, large errors have relatively greater influence on MSE than do the smaller error. Therefore, MAE is more robust to outliers since it does not make use of square. On the other hand, MSE is more useful if we are concerned about large errors whose consequences are much bigger than equivalent smaller ones. MSE also correspons to maximizing the likelihood of Gaussian randomv variables."
     ]
    },
    {
     "cell_type": "heading",
     "level": 2,
     "metadata": {},
     "source": [
      "Error metric for a binary classifier"
     ]
    },
    {
     "cell_type": "markdown",
     "metadata": {},
     "source": [
      "Binary: http://www.sergulaydore.com/evaluation-metrics-for-binary-classification/\n",
      "\n",
      "Multiclass: http://www.quora.com/Classification-Machine-Learning/What-are-some-good-error-metrics-for-multi-class-labeling\n",
      "http://citeseerx.ist.psu.edu/viewdoc/download?doi=10.1.1.104.8244&rep=rep1&type=pdf\n",
      "(F-measure (major and minor))\n",
      "\n",
      "A micro-average is generated in a traditional manner: pool all your results into one big contingency table and calculate the F-score from that.\n",
      "\n",
      "A macro-average, on the other hand, is obtained by calculating the F-score for each class, and then averaging those to get a single number.\n",
      "\n",
      "Because the micro-average gives equal weight to each individual decision, large classes will dominate small ones. This makes it a measure of how effective your classifier is on the large classes in the collection.\n",
      "\n",
      "On the other hand, macro-averaging gives equal weight to every class, and so will give you a sense of how effective you are on the small classes.\n",
      "\n"
     ]
    },
    {
     "cell_type": "heading",
     "level": 2,
     "metadata": {},
     "source": [
      "Various ways to predict a binary response variables"
     ]
    },
    {
     "cell_type": "heading",
     "level": 3,
     "metadata": {},
     "source": [
      "Decision Trees"
     ]
    },
    {
     "cell_type": "markdown",
     "metadata": {},
     "source": [
      "A decision tree (DT) is a flowchart-like tree structure, where each internal node denotes a test on an attribute, each branch represents an outcome of the test, and each leaf node (or terminal node) holds a class label [20]. The topmost node in a tree is the root node.\n",
      "During tree construction, attribute selection measures are used to select the attribute which best partitions the tuples into distinct classes. Three popular attribute selection measures are Information Gain, Gain Ratio, and Gini Index. When DTs are built, many of the branches may reflect noise or outliers in the training data. Tree pruning attempts to identify and remove such branches, with the goal of improving classification accuracy on unseen data."
     ]
    },
    {
     "cell_type": "heading",
     "level": 3,
     "metadata": {},
     "source": [
      "Regression"
     ]
    },
    {
     "cell_type": "markdown",
     "metadata": {},
     "source": [
      "Linear regression (LR) is used to model continuous- valued functions. It is widely used, owing largely to its simplicity. Generalized linear models represent the theoretical foundation on which LR can be applied to the modeling of categorical response variables. Common types of generalized linear models include logistic regression (LogR) and Poisson regression. LogR models the probability of some event occurring as a linear function of a set of predictor variables. Count data frequently exhibit a Poisson distribution and are commonly modeled using Poisson regression."
     ]
    },
    {
     "cell_type": "heading",
     "level": 3,
     "metadata": {},
     "source": [
      "Naive Bayes"
     ]
    },
    {
     "cell_type": "markdown",
     "metadata": {},
     "source": [
      "Bayesian classifiers are statistical classifiers. They can predict class membership probabilities [20]. Na\u00efve Bayes (NB) probabilistic classifiers are commonly studied in machine learning. The basic idea in NB approaches is to use the joint probabilities of words and categories to estimate the probabilities of categories given a document. The na\u00efve part of NB methods is the assumption of word independence, i.e. the conditional probability of a word given a category is assumed to be independent from the conditional probabilities of other words given that category. This assumption makes the computation of the NB classifiers far more efficient than the exponential complexity of non-na\u00efve Bayes approaches because it does not use word combinations as predictors"
     ]
    },
    {
     "cell_type": "heading",
     "level": 3,
     "metadata": {},
     "source": [
      "SVM"
     ]
    },
    {
     "cell_type": "markdown",
     "metadata": {},
     "source": [
      "A support vector machine (SVM) is an algorithm that uses a nonlinear mapping to transform the original training data into a higher dimension. Within this new dimension, it searches for the linear optimal separating hyperplane. A hyperplane is a \u201cdecision boundary\u201d separating the tuples of one class from another. With an appropriate nonlinear mapping to a sufficiently high dimension, data from two classes can always be separated by a hyperplane. The SVM finds this hyperplane using support vectors (\u201cessential\u201d training tuples) and margins (defined by the support vectors).\n",
      "\n",
      "Although the training time of even the fastest SVMs can be extremely slow, they are highly accurate, owing to their ability to model complex nonlinear decision boundaries. They are much less prone to over fitting than other methods"
     ]
    },
    {
     "cell_type": "heading",
     "level": 2,
     "metadata": {},
     "source": [
      "Regularization"
     ]
    },
    {
     "cell_type": "markdown",
     "metadata": {},
     "source": [
      "While optimizing the fit to the data, we also optimize the simplicity of the model. Models which fit data and also simmpler are better models. Reducing the complexity helps us aviod overfitting so that our model can generalize to different data sets. This general methodology is called regularization. Ridge regression and lasso are examples of using regularization. "
     ]
    },
    {
     "cell_type": "heading",
     "level": 2,
     "metadata": {},
     "source": [
      "How to estimate the number of retweets?"
     ]
    },
    {
     "cell_type": "markdown",
     "metadata": {},
     "source": [
      "You can run GLM using the features described in this paper: http://www-users.cs.umn.edu/~echi/papers/2010-socialcom/2010-06-25-retweetability-cameraready-v3.pdf\n",
      "\n",
      "Basically, they make use of both content and contextual features. Content features include the number of URLs and hastags and contextual features include the number of followers and followees and the age of the account. The number and frequency tweets and the number of favorited tweets seem not to matter much."
     ]
    }
   ],
   "metadata": {}
  }
 ]
}